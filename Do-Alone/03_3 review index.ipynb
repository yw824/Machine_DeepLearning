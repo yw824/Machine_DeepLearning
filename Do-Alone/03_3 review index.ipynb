{
 "cells": [
  {
   "cell_type": "markdown",
   "metadata": {},
   "source": [
    "### 농어 데이터 불러오기 ( 판다스로 사이트 주소 이용하여 불러오기 )\n",
    "<br> https://bit.ly/perch_csv.data\n",
    "<br> https://bit.ly/perch_data"
   ]
  },
  {
   "cell_type": "markdown",
   "metadata": {},
   "source": [
    "### perch_full 변수와 perch_weight 변수를 훈련 세트와 테스트 세트로 나누기"
   ]
  },
  {
   "cell_type": "markdown",
   "metadata": {},
   "source": [
    "### 사이킷런의 변환기( train_input을 변환한 데이터를 train_poly에 넣고 크기 확인하기)"
   ]
  },
  {
   "cell_type": "markdown",
   "metadata": {},
   "source": [
    "### 각 특성이 어떤 입력의 조합으로 만들어졌는지 확인하기"
   ]
  },
  {
   "cell_type": "markdown",
   "metadata": {},
   "source": [
    "### 다중 회귀 모델 훈련하기"
   ]
  },
  {
   "cell_type": "markdown",
   "metadata": {},
   "source": [
    "### 농어의 특성을 더 많이 추가하고 선형 회귀 모델 훈련하기"
   ]
  },
  {
   "cell_type": "markdown",
   "metadata": {},
   "source": [
    "### 규제( 과대적합 줄이기 , train_scaled, test_scaled 만들기 )"
   ]
  },
  {
   "cell_type": "markdown",
   "metadata": {},
   "source": [
    "### 릿지 회귀( train_scaled 데이터로 릿지 모델 훈련하고 테스트 세트에 대한 점수 확인하기)"
   ]
  },
  {
   "cell_type": "markdown",
   "metadata": {},
   "source": [
    "### alpha값( alpha값 바꿀 때마다 score() 메서드의 결과 저장할 리스트 만들어 저장하기)"
   ]
  },
  {
   "cell_type": "markdown",
   "metadata": {},
   "source": [
    "### 릿지 모델 만들고, 훈련한 다음 테스트 점수 저장하기"
   ]
  },
  {
   "cell_type": "markdown",
   "metadata": {},
   "source": [
    "### 릿지 회귀 점수 그래프로 만들기"
   ]
  },
  {
   "cell_type": "markdown",
   "metadata": {},
   "source": [
    "### 릿지 최종 모델 훈련하기"
   ]
  },
  {
   "cell_type": "markdown",
   "metadata": {},
   "source": [
    "### 라쏘 회귀( 라쏘 회귀 모델에서 훈련하고 테스트 점수도 확인하기)"
   ]
  },
  {
   "cell_type": "markdown",
   "metadata": {},
   "source": [
    "### 라쏘 회귀에서도 점수 구하여 배열에 저장하기"
   ]
  },
  {
   "cell_type": "markdown",
   "metadata": {},
   "source": [
    "### 라쏘 점수 그래프 그리기"
   ]
  },
  {
   "cell_type": "markdown",
   "metadata": {},
   "source": [
    "### 최종 값으로 모델 훈련하고 점수 확인하기"
   ]
  }
 ],
 "metadata": {
  "language_info": {
   "name": "python"
  },
  "orig_nbformat": 4
 },
 "nbformat": 4,
 "nbformat_minor": 2
}
