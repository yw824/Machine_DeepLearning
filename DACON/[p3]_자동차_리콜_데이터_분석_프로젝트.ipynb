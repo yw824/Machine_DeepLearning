{
 "cells": [
  {
   "cell_type": "markdown",
   "metadata": {
    "execution": {
     "iopub.execute_input": "2021-07-14T07:39:16.657586Z",
     "iopub.status.busy": "2021-07-14T07:39:16.657090Z",
     "iopub.status.idle": "2021-07-14T07:39:16.848501Z",
     "shell.execute_reply": "2021-07-14T07:39:16.846744Z",
     "shell.execute_reply.started": "2021-07-14T07:39:16.657491Z"
    }
   },
   "source": [
    "# [Project 3] 자동차 리콜 데이터 분석"
   ]
  },
  {
   "cell_type": "markdown",
   "metadata": {
    "execution": {
     "iopub.execute_input": "2021-07-14T07:40:47.362214Z",
     "iopub.status.busy": "2021-07-14T07:40:47.361841Z",
     "iopub.status.idle": "2021-07-14T07:40:47.368894Z",
     "shell.execute_reply": "2021-07-14T07:40:47.367421Z",
     "shell.execute_reply.started": "2021-07-14T07:40:47.362181Z"
    }
   },
   "source": [
    "---"
   ]
  },
  {
   "cell_type": "markdown",
   "metadata": {},
   "source": [
    "## 프로젝트 목표\n",
    "- 한국교통안전공단 자동차 결함 리콜 데이터를 분석하여 유의미한 정보 도출\n",
    "- 탐색적 데이터 분석을 수행하기 위한 데이터 정제, 특성 엔지니어링, 시각화 방법 학습"
   ]
  },
  {
   "cell_type": "markdown",
   "metadata": {},
   "source": [
    "---"
   ]
  },
  {
   "cell_type": "markdown",
   "metadata": {},
   "source": [
    "## 프로젝트 목차\n",
    "1. **데이터 읽기:** 자동차 리콜 데이터를 불러오고 Dataframe 구조를 확인<br>\n",
    "    1.1. 데이터 불러오기<br>\n",
    "<br> \n",
    "2. **데이터 정제:** 결측치 확인 및 기초적인 데이터 변형<br>\n",
    "    2.1. 결측치 확인<br>\n",
    "    2.2. 중복값 확인<br>\n",
    "    2.3. 기초적인 데이터 변형<br>\n",
    "<br>\n",
    "3. **데이터 시각화:** 각 변수 별로 추가적인 정제 또는 feature engineering 과정을 거치고 시각화를 통하여 데이터의 특성 파악<br>\n",
    "    3.1. 제조사별 리콜 현황 출력<br>\n",
    "    3.2. 모델별 리콜 현황 출력<br>\n",
    "    3.3. 월별 리콜 현황 출력<br>\n",
    "    3.4. 생산연도별 리콜 현황 출력<br>\n",
    "    3.5. 4분기 제조사별 리콜 현황 출력<br>\n",
    "    3.6. 하반기 생산연도별 리콜 현황 출력<br>\n",
    "    3.7. 워드 클라우드를 이용한 리콜 사유 시각화<br>"
   ]
  },
  {
   "cell_type": "markdown",
   "metadata": {},
   "source": [
    "---"
   ]
  },
  {
   "cell_type": "markdown",
   "metadata": {},
   "source": [
    "## 데이터 출처\n",
    "-  https://www.data.go.kr/data/3048950/fileData.do"
   ]
  },
  {
   "cell_type": "markdown",
   "metadata": {},
   "source": [
    "---"
   ]
  },
  {
   "cell_type": "markdown",
   "metadata": {},
   "source": [
    "## 프로젝트 개요\n",
    "\n",
    "리콜(recall)은 제품의 설계, 제조 단계에서 결함이 발견되었을 시 문제 예방의 차원에서 판매자가 무상으로 수리, 점검 및 교환을 해주는 소비자 보호 제도입니다. 집집마다 개인용 자동차를 보유하게 되면서 자동차는 어느덧 우리 삶의 일상재가 되었지만, 안전성에 대해서는 산발적인 문제 제기가 계속되고 있고, 이에 따라 전격적인 자동차 리콜 사태도 종종 발생하여 화제를 모으곤 합니다.\n",
    "\n",
    "이번 프로젝트에서는 한국교통안전공단에서 제공한 2020년 자동차 결함 리콜 데이터를 활용하여 유의미한 패턴 및 인사이트를 발굴하고 시각화하는 실습을 진행하도록 하겠습니다."
   ]
  },
  {
   "cell_type": "markdown",
   "metadata": {},
   "source": [
    "---"
   ]
  },
  {
   "cell_type": "markdown",
   "metadata": {},
   "source": [
    "## 1. 데이터 읽기"
   ]
  },
  {
   "cell_type": "markdown",
   "metadata": {},
   "source": [
    "필요한 패키지 설치 및 `import`한 후 `pandas`를 사용하여 데이터를 읽고 어떠한 데이터가 저장되어 있는지 확인합니다."
   ]
  },
  {
   "cell_type": "markdown",
   "metadata": {},
   "source": [
    "### 1.1. 데이터 불러오기"
   ]
  },
  {
   "cell_type": "code",
   "execution_count": null,
   "metadata": {
    "execution": {
     "iopub.execute_input": "2021-07-14T07:49:24.304064Z",
     "iopub.status.busy": "2021-07-14T07:49:24.303454Z",
     "iopub.status.idle": "2021-07-14T07:49:25.479762Z",
     "shell.execute_reply": "2021-07-14T07:49:25.478867Z",
     "shell.execute_reply.started": "2021-07-14T07:49:24.304010Z"
    }
   },
   "outputs": [],
   "source": [
    "import numpy as np \n",
    "import pandas as pd \n",
    "import matplotlib.pyplot as plt\n",
    "!pip install seaborn==0.9.0\n",
    "import seaborn as sns\n",
    "print(sns.__version__)\n",
    "# missingno라는 라이브러리가 설치되어 있을 경우 import\n",
    "try: \n",
    "    import missingno as msno\n",
    "# missingno라는 라이브러리가 설치되어 있지 않을 경우 설치 후 import\n",
    "except: \n",
    "    !pip install missingno\n",
    "    import missingno as msno"
   ]
  },
  {
   "cell_type": "code",
   "execution_count": null,
   "metadata": {
    "execution": {
     "iopub.execute_input": "2021-07-14T07:49:25.481432Z",
     "iopub.status.busy": "2021-07-14T07:49:25.481163Z",
     "iopub.status.idle": "2021-07-14T07:49:25.535734Z",
     "shell.execute_reply": "2021-07-14T07:49:25.534277Z",
     "shell.execute_reply.started": "2021-07-14T07:49:25.481406Z"
    }
   },
   "outputs": [],
   "source": [
    "# pd.read_csv를 통하여 dataframe 형태로 읽어옵니다.\n",
    "df = pd.read_csv(\"./data/한국교통안전공단_자동차결함 리콜현황_20201231.csv\", encoding=\"euc-kr\")"
   ]
  },
  {
   "cell_type": "code",
   "execution_count": null,
   "metadata": {
    "execution": {
     "iopub.execute_input": "2021-07-14T07:49:25.538436Z",
     "iopub.status.busy": "2021-07-14T07:49:25.538013Z",
     "iopub.status.idle": "2021-07-14T07:49:25.574554Z",
     "shell.execute_reply": "2021-07-14T07:49:25.573616Z",
     "shell.execute_reply.started": "2021-07-14T07:49:25.538401Z"
    }
   },
   "outputs": [],
   "source": [
    "# 상위 5개 데이터를 출력합니다.\n",
    "df.head()"
   ]
  },
  {
   "cell_type": "code",
   "execution_count": null,
   "metadata": {
    "execution": {
     "iopub.execute_input": "2021-07-14T07:49:25.576437Z",
     "iopub.status.busy": "2021-07-14T07:49:25.576110Z",
     "iopub.status.idle": "2021-07-14T07:49:25.593406Z",
     "shell.execute_reply": "2021-07-14T07:49:25.592375Z",
     "shell.execute_reply.started": "2021-07-14T07:49:25.576409Z"
    }
   },
   "outputs": [],
   "source": [
    "# 상위 10개 데이터를 출력합니다.\n",
    "df.head(10)"
   ]
  },
  {
   "cell_type": "code",
   "execution_count": null,
   "metadata": {
    "execution": {
     "iopub.execute_input": "2021-07-14T07:49:25.595269Z",
     "iopub.status.busy": "2021-07-14T07:49:25.594828Z",
     "iopub.status.idle": "2021-07-14T07:49:25.616366Z",
     "shell.execute_reply": "2021-07-14T07:49:25.615093Z",
     "shell.execute_reply.started": "2021-07-14T07:49:25.595233Z"
    }
   },
   "outputs": [],
   "source": [
    "# 하위 5개 데이터를 출력합니다.\n",
    "df.tail()"
   ]
  },
  {
   "cell_type": "code",
   "execution_count": null,
   "metadata": {
    "execution": {
     "iopub.execute_input": "2021-07-14T07:49:25.618499Z",
     "iopub.status.busy": "2021-07-14T07:49:25.618208Z",
     "iopub.status.idle": "2021-07-14T07:49:25.641552Z",
     "shell.execute_reply": "2021-07-14T07:49:25.640613Z",
     "shell.execute_reply.started": "2021-07-14T07:49:25.618472Z"
    }
   },
   "outputs": [],
   "source": [
    "# dataframe 정보를 요약하여 출력합니다. \n",
    "df.info()"
   ]
  },
  {
   "cell_type": "markdown",
   "metadata": {},
   "source": [
    "---"
   ]
  },
  {
   "cell_type": "markdown",
   "metadata": {},
   "source": [
    "## 2. 데이터 정제"
   ]
  },
  {
   "cell_type": "markdown",
   "metadata": {},
   "source": [
    "데이터를 읽고 확인했다면 결측값(missing data), 중복값(duplicates)을 처리하고 열 이름 변경과 같은 기초적인 데이터 변형을 진행해봅시다."
   ]
  },
  {
   "cell_type": "markdown",
   "metadata": {},
   "source": [
    "### 2.1. 결측치 확인"
   ]
  },
  {
   "cell_type": "markdown",
   "metadata": {},
   "source": [
    "`missingno.matrix()` 함수를 이용하여 결측치를 시각화해봅시다."
   ]
  },
  {
   "cell_type": "code",
   "execution_count": null,
   "metadata": {},
   "outputs": [],
   "source": [
    "import matplotlib.font_manager as fm\n",
    "\n",
    "font_dirs = ['/usr/share/fonts/truetype/nanum', ]\n",
    "font_files = fm.findSystemFonts(fontpaths=font_dirs)\n",
    "\n",
    "for font_file in font_files:\n",
    "    fm.fontManager.addfont(font_file)"
   ]
  },
  {
   "cell_type": "code",
   "execution_count": null,
   "metadata": {
    "execution": {
     "iopub.execute_input": "2021-07-14T07:49:25.643943Z",
     "iopub.status.busy": "2021-07-14T07:49:25.643214Z",
     "iopub.status.idle": "2021-07-14T07:49:26.188584Z",
     "shell.execute_reply": "2021-07-14T07:49:26.187704Z",
     "shell.execute_reply.started": "2021-07-14T07:49:25.643900Z"
    }
   },
   "outputs": [],
   "source": [
    "sns.set(font=\"NanumBarunGothic\", \n",
    "        rc={\"axes.unicode_minus\":False})\n",
    "msno.matrix(df)\n",
    "plt.show()"
   ]
  },
  {
   "cell_type": "markdown",
   "metadata": {},
   "source": [
    "`isna()` 함수를 이용하여 결측치를 확인해봅시다."
   ]
  },
  {
   "cell_type": "code",
   "execution_count": null,
   "metadata": {
    "execution": {
     "iopub.execute_input": "2021-07-14T07:49:26.191402Z",
     "iopub.status.busy": "2021-07-14T07:49:26.191014Z",
     "iopub.status.idle": "2021-07-14T07:49:26.201774Z",
     "shell.execute_reply": "2021-07-14T07:49:26.200566Z",
     "shell.execute_reply.started": "2021-07-14T07:49:26.191370Z"
    }
   },
   "outputs": [],
   "source": [
    "# 각 열 별로 결측치의 갯수를 반환합니다. (True:1, False:0)\n",
    "df.isna().sum() "
   ]
  },
  {
   "cell_type": "markdown",
   "metadata": {},
   "source": [
    "### 2.2. 중복값 확인"
   ]
  },
  {
   "cell_type": "markdown",
   "metadata": {},
   "source": [
    "`duplicated()` 함수를 이용하여 중복값을 확인해봅시다."
   ]
  },
  {
   "cell_type": "code",
   "execution_count": null,
   "metadata": {
    "execution": {
     "iopub.execute_input": "2021-07-14T07:49:26.204454Z",
     "iopub.status.busy": "2021-07-14T07:49:26.204028Z",
     "iopub.status.idle": "2021-07-14T07:49:26.228760Z",
     "shell.execute_reply": "2021-07-14T07:49:26.227322Z",
     "shell.execute_reply.started": "2021-07-14T07:49:26.204412Z"
    }
   },
   "outputs": [],
   "source": [
    "df[df.duplicated(keep=False)]"
   ]
  },
  {
   "cell_type": "markdown",
   "metadata": {},
   "source": [
    "`drop_duplicates()` 함수를 이용하여 중복값을 제거합니다."
   ]
  },
  {
   "cell_type": "code",
   "execution_count": null,
   "metadata": {
    "execution": {
     "iopub.execute_input": "2021-07-14T07:49:26.230857Z",
     "iopub.status.busy": "2021-07-14T07:49:26.230464Z",
     "iopub.status.idle": "2021-07-14T07:49:26.243305Z",
     "shell.execute_reply": "2021-07-14T07:49:26.241938Z",
     "shell.execute_reply.started": "2021-07-14T07:49:26.230821Z"
    }
   },
   "outputs": [],
   "source": [
    "print(\"Before:\", len(df))\n",
    "df = df.drop_duplicates()\n",
    "print(\"After:\", len(df))"
   ]
  },
  {
   "cell_type": "markdown",
   "metadata": {},
   "source": [
    "### 2.3. 기초적인 데이터 변형"
   ]
  },
  {
   "cell_type": "markdown",
   "metadata": {},
   "source": [
    "현재 `생산기간`, `생산기간.1`, `리콜개시일` 열은 모두 `object` 타입, 즉 문자열로 인식되고 있습니다. 분석을 위해 연도, 월, 일을 각각 정수형으로 저장합니다. <br>\n",
    "추가적으로 분석의 편리를 위해 열 이름을 영어로 바꿔줍니다."
   ]
  },
  {
   "cell_type": "code",
   "execution_count": null,
   "metadata": {
    "execution": {
     "iopub.execute_input": "2021-07-14T07:49:26.245238Z",
     "iopub.status.busy": "2021-07-14T07:49:26.244773Z",
     "iopub.status.idle": "2021-07-14T07:49:26.288742Z",
     "shell.execute_reply": "2021-07-14T07:49:26.287573Z",
     "shell.execute_reply.started": "2021-07-14T07:49:26.245203Z"
    }
   },
   "outputs": [],
   "source": [
    "def parse_year(s):\n",
    "    return int(s[:4])\n",
    "def parse_month(s):\n",
    "    return int(s[5:7])\n",
    "def parse_day(s):\n",
    "    return int(s[8:])\n",
    "\n",
    "# Pandas DataFrame에서는 row별로 loop를 도는 것이 굉장히 느리기 때문에, apply() 함수를 이용하여 벡터 연산을 진행합니다.\n",
    "df['start_year'] = df['생산기간'].apply(parse_year)\n",
    "df['start_month'] = df['생산기간'].apply(parse_month)\n",
    "df['start_day'] = df['생산기간'].apply(parse_day)\n",
    "\n",
    "df['end_year'] = df['생산기간.1'].apply(parse_year)\n",
    "df['end_month'] = df['생산기간.1'].apply(parse_month)\n",
    "df['end_day'] = df['생산기간.1'].apply(parse_day)\n",
    "\n",
    "df['recall_year'] = df['리콜개시일'].apply(parse_year)\n",
    "df['recall_month'] = df['리콜개시일'].apply(parse_month)\n",
    "df['recall_day'] = df['리콜개시일'].apply(parse_day)\n",
    "\n",
    "df.head(3)"
   ]
  },
  {
   "cell_type": "code",
   "execution_count": null,
   "metadata": {
    "execution": {
     "iopub.execute_input": "2021-07-14T07:49:26.290354Z",
     "iopub.status.busy": "2021-07-14T07:49:26.290046Z",
     "iopub.status.idle": "2021-07-14T07:49:26.310819Z",
     "shell.execute_reply": "2021-07-14T07:49:26.309651Z",
     "shell.execute_reply.started": "2021-07-14T07:49:26.290326Z"
    }
   },
   "outputs": [],
   "source": [
    "# 불필요한 열은 버리고, 열 이름을 재정의합니다.\n",
    "df = df.drop(columns=['생산기간', '생산기간.1', '리콜개시일']).rename(columns={'제작자': \"manufacturer\", \"차명\": \"model\", \"리콜사유\": \"cause\"})\n",
    "df.head(3)"
   ]
  },
  {
   "cell_type": "markdown",
   "metadata": {},
   "source": [
    "본 분석에서는 2020년의 데이터만을 대상으로하므로, 그 외의 데이터가 있다면 삭제해주겠습니다."
   ]
  },
  {
   "cell_type": "code",
   "execution_count": null,
   "metadata": {},
   "outputs": [],
   "source": [
    "# 2019년의 데이터가 함께 존재함을 알 수 있습니다.\n",
    "df.recall_year.min(), df.recall_year.max()"
   ]
  },
  {
   "cell_type": "code",
   "execution_count": null,
   "metadata": {},
   "outputs": [],
   "source": [
    "# 2020년의 데이터만을 남겨줍니다.\n",
    "df = df[df['recall_year']==2020]\n",
    "len(df)"
   ]
  },
  {
   "cell_type": "markdown",
   "metadata": {},
   "source": [
    "---"
   ]
  },
  {
   "cell_type": "markdown",
   "metadata": {},
   "source": [
    "## 3. 데이터 시각화"
   ]
  },
  {
   "cell_type": "markdown",
   "metadata": {},
   "source": [
    "각 column의 변수별로 어떠한 데이터 분포를 하고 있는지 시각화를 통하여 알아봅시다."
   ]
  },
  {
   "cell_type": "markdown",
   "metadata": {},
   "source": [
    "### 3.1. 제조사별 리콜 현황 출력"
   ]
  },
  {
   "cell_type": "markdown",
   "metadata": {},
   "source": [
    "제조사별 리콜 건수 분포를 막대 그래프로 확인해보겠습니다."
   ]
  },
  {
   "cell_type": "code",
   "execution_count": null,
   "metadata": {
    "execution": {
     "iopub.execute_input": "2021-07-14T07:49:26.312479Z",
     "iopub.status.busy": "2021-07-14T07:49:26.312134Z",
     "iopub.status.idle": "2021-07-14T07:49:26.330695Z",
     "shell.execute_reply": "2021-07-14T07:49:26.329328Z",
     "shell.execute_reply.started": "2021-07-14T07:49:26.312446Z"
    }
   },
   "outputs": [],
   "source": [
    "df.groupby(\"manufacturer\").count()[\"model\"].sort_values(ascending=False)"
   ]
  },
  {
   "cell_type": "code",
   "execution_count": null,
   "metadata": {
    "execution": {
     "iopub.execute_input": "2021-07-14T07:49:26.333046Z",
     "iopub.status.busy": "2021-07-14T07:49:26.332677Z",
     "iopub.status.idle": "2021-07-14T07:49:26.356093Z",
     "shell.execute_reply": "2021-07-14T07:49:26.354888Z",
     "shell.execute_reply.started": "2021-07-14T07:49:26.333002Z"
    }
   },
   "outputs": [],
   "source": [
    "pd.DataFrame(df.groupby(\"manufacturer\").count()[\"model\"].sort_values(ascending=False)).rename(columns={\"model\": \"count\"})"
   ]
  },
  {
   "cell_type": "code",
   "execution_count": null,
   "metadata": {
    "execution": {
     "iopub.execute_input": "2021-07-14T07:49:26.358359Z",
     "iopub.status.busy": "2021-07-14T07:49:26.357715Z",
     "iopub.status.idle": "2021-07-14T07:49:26.369031Z",
     "shell.execute_reply": "2021-07-14T07:49:26.367892Z",
     "shell.execute_reply.started": "2021-07-14T07:49:26.358312Z"
    }
   },
   "outputs": [],
   "source": [
    "tmp = pd.DataFrame(df.groupby(\"manufacturer\").count()[\"model\"].sort_values(ascending=False)).rename(columns={\"model\": \"count\"})"
   ]
  },
  {
   "cell_type": "code",
   "execution_count": null,
   "metadata": {
    "execution": {
     "iopub.execute_input": "2021-07-14T07:49:26.370909Z",
     "iopub.status.busy": "2021-07-14T07:49:26.370340Z",
     "iopub.status.idle": "2021-07-14T07:49:26.992462Z",
     "shell.execute_reply": "2021-07-14T07:49:26.991341Z",
     "shell.execute_reply.started": "2021-07-14T07:49:26.370874Z"
    }
   },
   "outputs": [],
   "source": [
    "plt.figure(figsize=(20,10))\n",
    "# 한글 출력을 위해서 폰트 옵션을 설정합니다.\n",
    "sns.set(font=\"NanumBarunGothic\", \n",
    "        rc={\"axes.unicode_minus\":False},\n",
    "        style='darkgrid')\n",
    "ax = sns.countplot(x=\"manufacturer\", data=df, palette=\"Set2\", order=tmp.index)\n",
    "plt.xticks(rotation=270)\n",
    "plt.show()"
   ]
  },
  {
   "cell_type": "code",
   "execution_count": null,
   "metadata": {
    "execution": {
     "iopub.execute_input": "2021-07-14T07:49:26.993951Z",
     "iopub.status.busy": "2021-07-14T07:49:26.993680Z",
     "iopub.status.idle": "2021-07-14T07:49:27.004653Z",
     "shell.execute_reply": "2021-07-14T07:49:27.003514Z",
     "shell.execute_reply.started": "2021-07-14T07:49:26.993925Z"
    }
   },
   "outputs": [],
   "source": [
    "tmp.index"
   ]
  },
  {
   "cell_type": "markdown",
   "metadata": {},
   "source": [
    "### 3.2. 모델별 리콜 현황 출력"
   ]
  },
  {
   "cell_type": "markdown",
   "metadata": {},
   "source": [
    "차량 모델별 리콜 건수 분포를 막대 그래프로 확인해보겠습니다."
   ]
  },
  {
   "cell_type": "code",
   "execution_count": null,
   "metadata": {
    "execution": {
     "iopub.execute_input": "2021-07-14T07:49:27.006811Z",
     "iopub.status.busy": "2021-07-14T07:49:27.006367Z",
     "iopub.status.idle": "2021-07-14T07:49:27.026674Z",
     "shell.execute_reply": "2021-07-14T07:49:27.025647Z",
     "shell.execute_reply.started": "2021-07-14T07:49:27.006765Z"
    }
   },
   "outputs": [],
   "source": [
    "pd.DataFrame(df.groupby(\"model\").count()[\"start_year\"].sort_values(ascending=False)).rename(columns={\"start_year\": \"count\"}).head(10)"
   ]
  },
  {
   "cell_type": "markdown",
   "metadata": {},
   "source": [
    "모델은 굉장히 많으므로, 상위 50개 모델만 뽑아서 시각화를 진행해보겠습니다."
   ]
  },
  {
   "cell_type": "code",
   "execution_count": null,
   "metadata": {
    "execution": {
     "iopub.execute_input": "2021-07-14T07:49:27.028396Z",
     "iopub.status.busy": "2021-07-14T07:49:27.028036Z",
     "iopub.status.idle": "2021-07-14T07:49:27.040380Z",
     "shell.execute_reply": "2021-07-14T07:49:27.039366Z",
     "shell.execute_reply.started": "2021-07-14T07:49:27.028364Z"
    }
   },
   "outputs": [],
   "source": [
    "tmp = pd.DataFrame(df.groupby(\"model\").count()[\"manufacturer\"].sort_values(ascending=False))\n",
    "tmp = tmp.rename(columns={\"manufacturer\": \"count\"}).iloc[:50]"
   ]
  },
  {
   "cell_type": "code",
   "execution_count": null,
   "metadata": {
    "execution": {
     "iopub.execute_input": "2021-07-14T07:49:27.042610Z",
     "iopub.status.busy": "2021-07-14T07:49:27.042015Z",
     "iopub.status.idle": "2021-07-14T07:49:28.580484Z",
     "shell.execute_reply": "2021-07-14T07:49:28.579292Z",
     "shell.execute_reply.started": "2021-07-14T07:49:27.042561Z"
    }
   },
   "outputs": [],
   "source": [
    "# 그래프의 사이즈를 조절합니다.\n",
    "plt.figure(figsize=(10,5))\n",
    "\n",
    "# seaborn의 countplot 함수를 사용하여 출력합니다.\n",
    "sns.set(font=\"NanumBarunGothic\", \n",
    "        rc={\"axes.unicode_minus\":False},\n",
    "        style='darkgrid')\n",
    "ax = sns.countplot(x=\"model\", data=df[df.model.isin(tmp.index)], palette=\"Set2\", order=tmp.index)\n",
    "plt.xticks(rotation=270)\n",
    "plt.show()"
   ]
  },
  {
   "cell_type": "markdown",
   "metadata": {},
   "source": [
    "### 3.3. 월별 리콜 현황 출력"
   ]
  },
  {
   "cell_type": "markdown",
   "metadata": {},
   "source": [
    "월별 리콜 건수 분포를 막대 그래프로 확인해보겠습니다."
   ]
  },
  {
   "cell_type": "code",
   "execution_count": null,
   "metadata": {
    "execution": {
     "iopub.execute_input": "2021-07-14T07:49:28.582542Z",
     "iopub.status.busy": "2021-07-14T07:49:28.582092Z",
     "iopub.status.idle": "2021-07-14T07:49:28.602347Z",
     "shell.execute_reply": "2021-07-14T07:49:28.600927Z",
     "shell.execute_reply.started": "2021-07-14T07:49:28.582500Z"
    }
   },
   "outputs": [],
   "source": [
    "pd.DataFrame(df.groupby(\"recall_month\").count()[\"start_year\"].sort_values(ascending=False)).rename(columns={\"start_year\": \"count\"})"
   ]
  },
  {
   "cell_type": "code",
   "execution_count": null,
   "metadata": {
    "execution": {
     "iopub.execute_input": "2021-07-14T07:49:28.603985Z",
     "iopub.status.busy": "2021-07-14T07:49:28.603695Z",
     "iopub.status.idle": "2021-07-14T07:49:28.885772Z",
     "shell.execute_reply": "2021-07-14T07:49:28.884824Z",
     "shell.execute_reply.started": "2021-07-14T07:49:28.603958Z"
    }
   },
   "outputs": [],
   "source": [
    "# 그래프의 사이즈를 조절합니다.\n",
    "plt.figure(figsize=(10,5))\n",
    "\n",
    "# seaborn의 countplot 함수를 사용하여 출력합니다.\n",
    "sns.set(style=\"darkgrid\")\n",
    "ax = sns.countplot(x=\"recall_month\", data=df, palette=\"Set2\")\n",
    "plt.show()"
   ]
  },
  {
   "cell_type": "markdown",
   "metadata": {},
   "source": [
    "### 3.4. 생산연도별 리콜 현황 출력"
   ]
  },
  {
   "cell_type": "markdown",
   "metadata": {},
   "source": [
    "이번에는 생산연도별 리콜 현황을 꺾은선 그래프로 알아보겠습니다."
   ]
  },
  {
   "cell_type": "code",
   "execution_count": null,
   "metadata": {
    "execution": {
     "iopub.execute_input": "2021-07-14T07:49:28.889928Z",
     "iopub.status.busy": "2021-07-14T07:49:28.889622Z",
     "iopub.status.idle": "2021-07-14T07:49:29.175674Z",
     "shell.execute_reply": "2021-07-14T07:49:29.174749Z",
     "shell.execute_reply.started": "2021-07-14T07:49:28.889900Z"
    }
   },
   "outputs": [],
   "source": [
    "tmp = pd.DataFrame(df.groupby(\"start_year\").count()[\"model\"]).rename(columns={\"model\": \"count\"}).reset_index()\n",
    "\n",
    "# 그래프의 사이즈를 조절합니다.\n",
    "plt.figure(figsize=(10,5))\n",
    "\n",
    "# seaborn의 countplot 함수를 사용하여 출력합니다.\n",
    "sns.set(style=\"darkgrid\")\n",
    "sns.lineplot(data=tmp, x=\"start_year\", y=\"count\")\n",
    "plt.show()"
   ]
  },
  {
   "cell_type": "code",
   "execution_count": null,
   "metadata": {
    "execution": {
     "iopub.execute_input": "2021-07-14T07:49:29.177616Z",
     "iopub.status.busy": "2021-07-14T07:49:29.177347Z",
     "iopub.status.idle": "2021-07-14T07:49:29.187523Z",
     "shell.execute_reply": "2021-07-14T07:49:29.186633Z",
     "shell.execute_reply.started": "2021-07-14T07:49:29.177587Z"
    }
   },
   "outputs": [],
   "source": [
    "tmp"
   ]
  },
  {
   "cell_type": "markdown",
   "metadata": {},
   "source": [
    "#### 퀴즈 1. 2020년에 리콜 개시가 가장 많이 일어난 달(month)과 가장 적게 일어난 달의 차이(건수)를 구하세요."
   ]
  },
  {
   "cell_type": "code",
   "execution_count": null,
   "metadata": {
    "execution": {
     "iopub.execute_input": "2021-07-14T07:49:29.189132Z",
     "iopub.status.busy": "2021-07-14T07:49:29.188631Z",
     "iopub.status.idle": "2021-07-14T07:49:29.196432Z",
     "shell.execute_reply": "2021-07-14T07:49:29.195644Z",
     "shell.execute_reply.started": "2021-07-14T07:49:29.189101Z"
    }
   },
   "outputs": [],
   "source": [
    "# tmp = pd.DataFrame(df.groupby(\"recall_month\").count()[\"start_year\"].sort_values(ascending=False)).rename(columns={\"start_year\": \"count\"})\n",
    "# tmp.iloc[0][\"count\"]-tmp.iloc[-1][\"count\"]"
   ]
  },
  {
   "cell_type": "code",
   "execution_count": null,
   "metadata": {
    "execution": {
     "iopub.execute_input": "2021-07-14T07:49:29.197786Z",
     "iopub.status.busy": "2021-07-14T07:49:29.197409Z",
     "iopub.status.idle": "2021-07-14T07:49:29.210546Z",
     "shell.execute_reply": "2021-07-14T07:49:29.209468Z",
     "shell.execute_reply.started": "2021-07-14T07:49:29.197758Z"
    }
   },
   "outputs": [],
   "source": [
    "# 퀴즈의 답을 구하여 quiz_1 변수에 저장합니다.\n",
    "# integer 형 상수값으로 저장합니다.\n",
    "quiz_1 = None"
   ]
  },
  {
   "cell_type": "markdown",
   "metadata": {},
   "source": [
    "### 3.5. 4분기 제조사별 리콜 현황 출력"
   ]
  },
  {
   "cell_type": "markdown",
   "metadata": {},
   "source": [
    "가장 최근 데이터인 2020년 4분기(10, 11, 12월) 제조사별 리콜 현황을 시각화해봅시다."
   ]
  },
  {
   "cell_type": "code",
   "execution_count": null,
   "metadata": {
    "execution": {
     "iopub.execute_input": "2021-07-14T07:51:46.732099Z",
     "iopub.status.busy": "2021-07-14T07:51:46.731737Z",
     "iopub.status.idle": "2021-07-14T07:51:46.753539Z",
     "shell.execute_reply": "2021-07-14T07:51:46.752291Z",
     "shell.execute_reply.started": "2021-07-14T07:51:46.732069Z"
    }
   },
   "outputs": [],
   "source": [
    "# 논리연산을 이용한 조건을 다음과 같이 사용하면 해당 조건에 맞는 데이터를 출력할 수 있습니다.\n",
    "df[df.recall_month.isin([10,11,12])].head()"
   ]
  },
  {
   "cell_type": "code",
   "execution_count": null,
   "metadata": {
    "execution": {
     "iopub.execute_input": "2021-07-14T07:51:51.162481Z",
     "iopub.status.busy": "2021-07-14T07:51:51.162073Z",
     "iopub.status.idle": "2021-07-14T07:51:51.673761Z",
     "shell.execute_reply": "2021-07-14T07:51:51.672838Z",
     "shell.execute_reply.started": "2021-07-14T07:51:51.162450Z"
    }
   },
   "outputs": [],
   "source": [
    "# 그래프를 출력합니다.\n",
    "plt.figure(figsize=(20,10))\n",
    "sns.set(font=\"NanumBarunGothic\", \n",
    "        rc={\"axes.unicode_minus\":False},\n",
    "        style='darkgrid')\n",
    "ax = sns.countplot(x=\"manufacturer\", data=df[df.recall_month.isin([10,11,12])], palette=\"Set2\")\n",
    "plt.xticks(rotation=270)\n",
    "plt.show()"
   ]
  },
  {
   "cell_type": "markdown",
   "metadata": {},
   "source": [
    "### 3.6. 하반기 생산연도별 리콜 현황 출력"
   ]
  },
  {
   "cell_type": "markdown",
   "metadata": {},
   "source": [
    "이번에는 2020년 하반기(7~12월)에 개시된 리콜 건들을 생산 개시 연도를 기준으로 시각화해봅시다."
   ]
  },
  {
   "cell_type": "code",
   "execution_count": null,
   "metadata": {
    "execution": {
     "iopub.execute_input": "2021-07-14T07:52:05.090930Z",
     "iopub.status.busy": "2021-07-14T07:52:05.090552Z",
     "iopub.status.idle": "2021-07-14T07:52:05.114687Z",
     "shell.execute_reply": "2021-07-14T07:52:05.113535Z",
     "shell.execute_reply.started": "2021-07-14T07:52:05.090897Z"
    }
   },
   "outputs": [],
   "source": [
    "# 해당 column을 지정하여 series 형태로 출력할 수 있습니다.\n",
    "df[df.recall_month>=7].head()"
   ]
  },
  {
   "cell_type": "code",
   "execution_count": null,
   "metadata": {
    "execution": {
     "iopub.execute_input": "2021-07-14T07:52:07.859965Z",
     "iopub.status.busy": "2021-07-14T07:52:07.859606Z",
     "iopub.status.idle": "2021-07-14T07:52:08.225250Z",
     "shell.execute_reply": "2021-07-14T07:52:08.224548Z",
     "shell.execute_reply.started": "2021-07-14T07:52:07.859933Z"
    }
   },
   "outputs": [],
   "source": [
    "# 그래프를 출력합니다.\n",
    "plt.figure(figsize=(10,5))\n",
    "sns.set(style=\"darkgrid\")\n",
    "ax = sns.countplot(x=\"start_year\", data=df[df.recall_month>=7], palette=\"Set2\")\n",
    "plt.show()"
   ]
  },
  {
   "cell_type": "markdown",
   "metadata": {},
   "source": [
    "### 3.7. 워드 클라우드를 이용한 리콜 사유 시각화"
   ]
  },
  {
   "cell_type": "markdown",
   "metadata": {},
   "source": [
    "워드 클라우드를 이용하여 리콜 사유를 시각화해보도록 하겠습니다."
   ]
  },
  {
   "cell_type": "code",
   "execution_count": null,
   "metadata": {
    "execution": {
     "iopub.execute_input": "2021-07-14T07:52:12.339345Z",
     "iopub.status.busy": "2021-07-14T07:52:12.338720Z",
     "iopub.status.idle": "2021-07-14T07:52:12.390516Z",
     "shell.execute_reply": "2021-07-14T07:52:12.389402Z",
     "shell.execute_reply.started": "2021-07-14T07:52:12.339289Z"
    }
   },
   "outputs": [],
   "source": [
    "# 워드 클라우드 생성을 도와주는 패키지를 가져옵니다.\n",
    "try:\n",
    "    from wordcloud import WordCloud, STOPWORDS\n",
    "except:\n",
    "    !pip install wordcloud\n",
    "    from wordcloud import WordCloud, STOPWORDS"
   ]
  },
  {
   "cell_type": "code",
   "execution_count": null,
   "metadata": {
    "execution": {
     "iopub.execute_input": "2021-07-14T07:52:13.248705Z",
     "iopub.status.busy": "2021-07-14T07:52:13.248293Z",
     "iopub.status.idle": "2021-07-14T07:52:13.258875Z",
     "shell.execute_reply": "2021-07-14T07:52:13.258131Z",
     "shell.execute_reply.started": "2021-07-14T07:52:13.248666Z"
    }
   },
   "outputs": [],
   "source": [
    "# 문법적인 성분들을 배제하기 위해 stopwords들을 따로 저장해둡니다.\n",
    "set(STOPWORDS)"
   ]
  },
  {
   "cell_type": "markdown",
   "metadata": {},
   "source": [
    "영어를 사용할 때는 상관 없지만, 우리말을 쓸 때에는 적합하지 않습니다. 여기서는 예시로 몇 개의 stopwords들을 수기로 저장해보겠습니다."
   ]
  },
  {
   "cell_type": "code",
   "execution_count": null,
   "metadata": {
    "execution": {
     "iopub.execute_input": "2021-07-14T07:52:18.596069Z",
     "iopub.status.busy": "2021-07-14T07:52:18.595561Z",
     "iopub.status.idle": "2021-07-14T07:52:18.600036Z",
     "shell.execute_reply": "2021-07-14T07:52:18.599218Z",
     "shell.execute_reply.started": "2021-07-14T07:52:18.596037Z"
    }
   },
   "outputs": [],
   "source": [
    "# 손으로 직접 리콜 사유와 관련이 적은 문법적 어구들을 배제해보겠습니다.\n",
    "spwords = set([\"동안\", \"인하여\", \"있는\", \"경우\", \"있습니다\", \"가능성이\", \"않을\", \"차량의\", \"가\", \"에\", \"될\", \"이\",\n",
    "               \"인해\", \"수\", \"중\", \"시\", \"또는\", \"있음\", \"의\", \"및\", \"있으며\", \"발생할\", \"이로\", \"오류로\", \"해당\"])"
   ]
  },
  {
   "cell_type": "code",
   "execution_count": null,
   "metadata": {
    "execution": {
     "iopub.execute_input": "2021-07-14T07:54:44.681187Z",
     "iopub.status.busy": "2021-07-14T07:54:44.680804Z",
     "iopub.status.idle": "2021-07-14T07:54:44.689509Z",
     "shell.execute_reply": "2021-07-14T07:54:44.688462Z",
     "shell.execute_reply.started": "2021-07-14T07:54:44.681132Z"
    }
   },
   "outputs": [],
   "source": [
    "# 리콜 사유에 해당하는 열의 값들을 중복 제거한 뒤 모두 이어붙여서 text라는 문자열로 저장합니다.\n",
    "text = \"\"\n",
    "\n",
    "for c in df.cause.drop_duplicates():\n",
    "    text += c\n",
    "\n",
    "text[:100]"
   ]
  },
  {
   "cell_type": "markdown",
   "metadata": {},
   "source": [
    "워드 클라우드를 생성하고 시각화해보겠습니다."
   ]
  },
  {
   "cell_type": "code",
   "execution_count": null,
   "metadata": {
    "execution": {
     "iopub.execute_input": "2021-07-14T07:54:53.423675Z",
     "iopub.status.busy": "2021-07-14T07:54:53.423233Z",
     "iopub.status.idle": "2021-07-14T07:54:53.608966Z",
     "shell.execute_reply": "2021-07-14T07:54:53.606602Z",
     "shell.execute_reply.started": "2021-07-14T07:54:53.423635Z"
    }
   },
   "outputs": [],
   "source": [
    "# 한글을 사용하기 위해서는 폰트를 지정해주어야 합니다.\n",
    "wc1 = WordCloud(max_font_size=200, stopwords=spwords, font_path='/usr/share/fonts/truetype/nanum/NanumGothic.ttf',\n",
    "                background_color='white', width=800, height=800)\n",
    "wc1.generate(text)\n",
    "\n",
    "plt.figure(figsize=(10, 8))\n",
    "plt.imshow(wc1)\n",
    "plt.tight_layout(pad=0)\n",
    "plt.axis('off')\n",
    "plt.show()"
   ]
  },
  {
   "cell_type": "markdown",
   "metadata": {},
   "source": [
    "#### 퀴즈 2. 기아자동차(주)의 제품 중 가장 최근에 리콜이 개시된 제품의 모델명을 구하세요. "
   ]
  },
  {
   "cell_type": "code",
   "execution_count": null,
   "metadata": {
    "execution": {
     "iopub.status.busy": "2021-07-14T07:49:29.359960Z",
     "iopub.status.idle": "2021-07-14T07:49:29.360405Z"
    }
   },
   "outputs": [],
   "source": [
    "# df[df['manufacturer']==\"기아자동차(주)\"].sort_values(by=[\"recall_year\", \"recall_month\", \"recall_day\"], ascending=False).iloc[0]['model']"
   ]
  },
  {
   "cell_type": "code",
   "execution_count": null,
   "metadata": {
    "execution": {
     "iopub.status.busy": "2021-07-14T07:49:29.361329Z",
     "iopub.status.idle": "2021-07-14T07:49:29.361742Z"
    }
   },
   "outputs": [],
   "source": [
    "# 퀴즈의 답을 구하여 quiz_2 변수에 저장합니다.\n",
    "# 문자형으로 저장합니다.\n",
    "quiz_2 = None"
   ]
  },
  {
   "cell_type": "markdown",
   "metadata": {},
   "source": [
    " ---"
   ]
  },
  {
   "cell_type": "markdown",
   "metadata": {},
   "source": [
    "## 제출하기"
   ]
  },
  {
   "cell_type": "markdown",
   "metadata": {},
   "source": [
    "퀴즈 1번과 2번을 수행 후, 아래 코드를 실행하면 `quiz_1 ~ 2` 변수가 저장된 csv 파일을 제작하여 채점을 받을 수 있습니다.\n",
    "\n",
    "**아래 코드를 수정하면 채점이 불가능 합니다.**"
   ]
  },
  {
   "cell_type": "code",
   "execution_count": null,
   "metadata": {
    "execution": {
     "iopub.status.busy": "2021-07-14T07:49:29.362536Z",
     "iopub.status.idle": "2021-07-14T07:49:29.362962Z"
    }
   },
   "outputs": [],
   "source": [
    "d = {'quiz_1': [quiz_1], 'quiz_2': [quiz_2]}\n",
    "df_quiz = pd.DataFrame(data=d)\n",
    "df_quiz.to_csv(\"submission.csv\",index=False)"
   ]
  },
  {
   "cell_type": "code",
   "execution_count": null,
   "metadata": {
    "execution": {
     "iopub.status.busy": "2021-07-14T07:49:29.364018Z",
     "iopub.status.idle": "2021-07-14T07:49:29.364458Z"
    }
   },
   "outputs": [],
   "source": [
    "answer=pd.read_csv('submission.csv')\n",
    "answer.loc[0]['quiz_2']"
   ]
  },
  {
   "cell_type": "code",
   "execution_count": null,
   "metadata": {
    "execution": {
     "iopub.status.busy": "2021-07-14T07:49:29.365284Z",
     "iopub.status.idle": "2021-07-14T07:49:29.365686Z"
    }
   },
   "outputs": [],
   "source": [
    "# 채점을 수행하기 위하여 로그인\n",
    "import sys\n",
    "sys.path.append('vendor')\n",
    "from elice_challenge import check_score, upload"
   ]
  },
  {
   "cell_type": "code",
   "execution_count": null,
   "metadata": {
    "execution": {
     "iopub.status.busy": "2021-07-14T07:49:29.366520Z",
     "iopub.status.idle": "2021-07-14T07:49:29.366924Z"
    }
   },
   "outputs": [],
   "source": [
    "# 제출 파일 업로드\n",
    "await upload()"
   ]
  },
  {
   "cell_type": "code",
   "execution_count": null,
   "metadata": {
    "execution": {
     "iopub.status.busy": "2021-07-14T07:49:29.367919Z",
     "iopub.status.idle": "2021-07-14T07:49:29.368369Z"
    }
   },
   "outputs": [],
   "source": [
    "# 채점 수행\n",
    "await check_score()"
   ]
  }
 ],
 "metadata": {
  "kernelspec": {
   "display_name": "Python 3",
   "language": "python",
   "name": "python3"
  },
  "language_info": {
   "codemirror_mode": {
    "name": "ipython",
    "version": 3
   },
   "file_extension": ".py",
   "mimetype": "text/x-python",
   "name": "python",
   "nbconvert_exporter": "python",
   "pygments_lexer": "ipython3",
   "version": "3.8.6"
  }
 },
 "nbformat": 4,
 "nbformat_minor": 4
}
