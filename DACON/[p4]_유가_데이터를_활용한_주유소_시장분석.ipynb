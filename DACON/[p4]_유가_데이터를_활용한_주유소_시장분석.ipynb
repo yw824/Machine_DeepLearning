{
 "cells": [
  {
   "cell_type": "markdown",
   "metadata": {
    "id": "nMZCtV8-wUBi"
   },
   "source": [
    "# [Project 4]_유가_데이터를_활용한_주유소_시장분석"
   ]
  },
  {
   "cell_type": "markdown",
   "metadata": {
    "id": "q4nVw7MrwUBj"
   },
   "source": [
    "---"
   ]
  },
  {
   "cell_type": "markdown",
   "metadata": {
    "id": "30SKtC7RwUBk"
   },
   "source": [
    "## 프로젝트 목표\n",
    "- <한국석유공사 제품별 주유소 판매가격> 데이터의 가격/지역/브랜드/셀프여부를 분석하여 주유소 시장 관련 인사이트 도출\n",
    "- 실제 연구/실무에서 활용되는 필수 분석 과정 및 기법에 대해 학습"
   ]
  },
  {
   "cell_type": "markdown",
   "metadata": {
    "id": "DKqVqsuNwUBk"
   },
   "source": [
    "---"
   ]
  },
  {
   "cell_type": "markdown",
   "metadata": {
    "id": "uHvelOrMwUBk"
   },
   "source": [
    "## 프로젝트 목차\n",
    "1. **데이터 Cleansing 및 Feature Engineering:** 분석을 위한 사전 점검 및 데이터 개괄 이해 <br>\n",
    "    1.1. 2018년 데이터 기준 데이터 Cleansing 및 Feature Engineering<br>\n",
    "    1.2. Cleansing 및 Feature Engineering 함수 생성 및 전체 년도 데이터 적용 <br>\n",
    "    1.3. 연도별 데이터 Outer Join<br>\n",
    "<br> \n",
    "\n",
    "2. **주유소 개폐업 현황 분석:** 연도별 주유소 ID 비교를 통한 개폐업 현황 분석<br>\n",
    "    2.1. 연도별 개폐업 수치 분석<br>\n",
    "<br>\n",
    "\n",
    "3. **브랜드 분석:** 브랜드별 가격경쟁력 및 시장점유율 분석<br>\n",
    "    3.1. 주요 브랜드별 가격 Line Plot 분석<br>\n",
    "    3.2. 주요 브랜드별 지난 4년간 시장 점유율 Stacked Bar Plot 및 Heatmap 분석<br>\n",
    "<br>\n",
    "\n",
    "4. **가격 분석:** 주유소 및 지역 별 가격 편차 분석<br>\n",
    "    4.1. 가격 분포 Boxplot<br>\n",
    "    4.2. 지역별 가격 분포 Boxplot (Multiple Columns)<br>\n",
    "<br>\n"
   ]
  },
  {
   "cell_type": "markdown",
   "metadata": {
    "id": "lUQhF57GwUBl"
   },
   "source": [
    "---"
   ]
  },
  {
   "cell_type": "markdown",
   "metadata": {
    "id": "t006thVWwUBl"
   },
   "source": [
    "## 데이터 출처\n",
    "-  https://www.data.go.kr/data/15044628/fileData.do\n",
    "- Opinet 유가내려받기: 2018 ~ 2021년 4개년에 대해 각각 6월 1일~7일 데이터 추출\n",
    "- 프로젝트에 필요한 컬럼만 추출"
   ]
  },
  {
   "cell_type": "markdown",
   "metadata": {
    "id": "yCBC0cvfwUBl"
   },
   "source": [
    "---"
   ]
  },
  {
   "cell_type": "markdown",
   "metadata": {
    "id": "py5kyk7mwUBl"
   },
   "source": [
    "## 프로젝트 개요\n",
    "\n",
    "행정안전부 공공데이터 포털에 등재되어있는 `한국석유공사 제품별 주유소 판매가격`은 전국 10000개 이상의 주유소에 대해 가격/지역/브랜드/셀프여부 등 방대한 데이터를 제공하고 있습니다. 이 데이터를 정유업체 전략기획팀 실무자의 입장에서 분석하여 주유소 시장에 대한 인사이트를 도출해봅시다. \n",
    "\n",
    "먼저, 주유소별로 7일치씩 쌓여있는 데이터를 요약하여 주유소별로 1개의 행이 되도록 각 년도 데이터를 가공 해봅시다. 그리고 이 데이터를 통해 지난 4년동안 몇개의 주유소가 개업 및 폐업 했는지 분석해 봅시다. 다음, 브랜드별 가격경쟁력 및 지난 4년간 시장 점유율 변화를 분석해 봅시다. 마지막으로 주유소별 가격 편차가 어느정도 되는지 알아보고, 지역별로도 유의미한 차이가 있는지 분석해 봅시다. "
   ]
  },
  {
   "cell_type": "markdown",
   "metadata": {
    "id": "r077bdYzwUBm"
   },
   "source": [
    "## 1. 데이터 Cleansing 및 Feature Engineering"
   ]
  },
  {
   "cell_type": "markdown",
   "metadata": {},
   "source": [
    "필요한 패키지를 `import`한 후 분석을 위한 사전 점검과 함께 데이터 개괄을 이해합니다."
   ]
  },
  {
   "cell_type": "markdown",
   "metadata": {},
   "source": [
    "### 1.1. 18년 데이터 기준 데이터 점검 및 Cleansing"
   ]
  },
  {
   "cell_type": "code",
   "execution_count": null,
   "metadata": {},
   "outputs": [],
   "source": [
    "import numpy as np \n",
    "import pandas as pd \n",
    "import seaborn as sns\n",
    "sns.set_style('darkgrid')\n",
    "import matplotlib.pyplot as plt\n",
    "import matplotlib.font_manager as fm\n",
    "\n",
    "font_dirs = ['/usr/share/fonts/truetype/nanum', ]\n",
    "font_files = fm.findSystemFonts(fontpaths=font_dirs)\n",
    "for font_file in font_files:\n",
    "    fm.fontManager.addfont(font_file)\n",
    "\n",
    "plt.rcParams['font.family'] = 'NanumBarunGothic'\n",
    "plt.rcParams['axes.unicode_minus']=False"
   ]
  },
  {
   "cell_type": "code",
   "execution_count": null,
   "metadata": {},
   "outputs": [],
   "source": [
    "f18 = pd.read_csv(f'./data/과거_판매가격(주유소)_2018.csv')"
   ]
  },
  {
   "cell_type": "code",
   "execution_count": null,
   "metadata": {},
   "outputs": [],
   "source": [
    "f18.head()"
   ]
  },
  {
   "cell_type": "code",
   "execution_count": null,
   "metadata": {},
   "outputs": [],
   "source": [
    "# 0번 row 제거\n",
    "f18 = f18.drop(0) "
   ]
  },
  {
   "cell_type": "code",
   "execution_count": null,
   "metadata": {},
   "outputs": [],
   "source": [
    "# 변수별 null값 확인 결과 null 없음\n",
    "f18.isna().sum() "
   ]
  },
  {
   "cell_type": "code",
   "execution_count": null,
   "metadata": {},
   "outputs": [],
   "source": [
    "# include='all': 카테고리형 변수도 정보 제공\n",
    "f18.describe(include='all') "
   ]
  },
  {
   "cell_type": "markdown",
   "metadata": {},
   "source": [
    "#### describe 점검 포인트:\n",
    "- unique 번호가 11673개이며 최대 7번까지 기록되었음\n",
    "- 기간이 수치로 인식되고 있음\n",
    "- unique 지역 개수가 229이어서 너무 많음\n",
    "- unique 상표 개수가 9개이므로 적절함\n",
    "- unique 셀프여부 개수가 2개이며, 셀프여부는 각각 절반정도 비중을 차지함\n",
    "- 휘발유 min이 0임"
   ]
  },
  {
   "cell_type": "code",
   "execution_count": null,
   "metadata": {},
   "outputs": [],
   "source": [
    "# 기간을 datetime 형태로 변환\n",
    "f18['기간'] = f18['기간'].apply(lambda x:pd.to_datetime(str(int(x)))) "
   ]
  },
  {
   "cell_type": "code",
   "execution_count": null,
   "metadata": {},
   "outputs": [],
   "source": [
    "# 지역 변수 중 첫 지역 구분만 컬럼 형성\n",
    "region_len = f18['지역'].apply(lambda x: len(x.split())) \n",
    "print(f\"min: {min(region_len)},max: {max(region_len)}\")"
   ]
  },
  {
   "cell_type": "code",
   "execution_count": null,
   "metadata": {},
   "outputs": [],
   "source": [
    "f18['지역2'] = f18['지역'].apply(lambda x:x.split()[0])\n",
    "import collections\n",
    "collections.Counter(f18['지역2'])"
   ]
  },
  {
   "cell_type": "code",
   "execution_count": null,
   "metadata": {},
   "outputs": [],
   "source": [
    "# 휘발유값 0인 ROW 확인\n",
    "f18.loc[f18['휘발유']==0].head(10) "
   ]
  },
  {
   "cell_type": "code",
   "execution_count": null,
   "metadata": {},
   "outputs": [],
   "source": [
    "f18.loc[f18['번호']=='A0010629']"
   ]
  },
  {
   "cell_type": "code",
   "execution_count": null,
   "metadata": {},
   "outputs": [],
   "source": [
    "# 휘발유값 0인 ROW 제거\n",
    "f18 = f18.loc[f18['휘발유']!=0,:]"
   ]
  },
  {
   "cell_type": "code",
   "execution_count": null,
   "metadata": {},
   "outputs": [],
   "source": [
    "f18.describe(include='all',datetime_is_numeric=True)"
   ]
  },
  {
   "cell_type": "code",
   "execution_count": null,
   "metadata": {},
   "outputs": [],
   "source": [
    "#주유소별 데이터 정합성 확인(7일동안 변화 없었다는 전제)\n",
    "unique_count = f18.groupby('번호')[['지역','상표','셀프여부']].nunique()\n",
    "unique_count.head()"
   ]
  },
  {
   "cell_type": "code",
   "execution_count": null,
   "metadata": {},
   "outputs": [],
   "source": [
    "target = unique_count.loc[(unique_count!=1).sum(axis=1)!=0]\n",
    "target"
   ]
  },
  {
   "cell_type": "code",
   "execution_count": null,
   "metadata": {},
   "outputs": [],
   "source": [
    "f18.loc[f18['번호'].isin(target.index)]"
   ]
  },
  {
   "cell_type": "code",
   "execution_count": null,
   "metadata": {},
   "outputs": [],
   "source": [
    "f18 = f18.loc[~f18['번호'].isin(target.index)]"
   ]
  },
  {
   "cell_type": "code",
   "execution_count": null,
   "metadata": {},
   "outputs": [],
   "source": [
    "# 주유소별 데이터 통합\n",
    "f18 = f18.groupby('번호')\\\n",
    "    .agg({'지역':'first','지역2':'first','상표':'first','셀프여부':'first','휘발유':'mean'})\\\n",
    "    .reset_index() "
   ]
  },
  {
   "cell_type": "code",
   "execution_count": null,
   "metadata": {},
   "outputs": [],
   "source": [
    "f18.describe(include='all')"
   ]
  },
  {
   "cell_type": "markdown",
   "metadata": {},
   "source": [
    "### 1.2. Cleansing 및 Feature Engineering 함수 생성 및 전체 년도 데이터 적용"
   ]
  },
  {
   "cell_type": "code",
   "execution_count": null,
   "metadata": {},
   "outputs": [],
   "source": [
    "def preprocess(df):\n",
    "    df_copy=df.copy() # 필터링 전\n",
    "    \n",
    "    df = df.drop(0)\n",
    "    df['기간'] = df['기간'].apply(lambda x:pd.to_datetime(str(int(x))))\n",
    "    df['지역2'] = df['지역'].apply(lambda x:x.split()[0])\n",
    "    df = df.loc[df['휘발유']!=0,:]\n",
    "    unique_count = df.groupby('번호')[['번호','지역','상표','셀프여부']].nunique()\n",
    "    target = unique_count.loc[(unique_count!=1).sum(axis=1)!=0,:]\n",
    "    df = df.loc[~df['번호'].isin(target.index),:]\n",
    "    df = df.groupby('번호')\\\n",
    "        .agg({'지역':'first','지역2':'first','상표':'first','셀프여부':'first','휘발유':'mean'})\\\n",
    "        .reset_index()\n",
    "    \n",
    "    out = set(df_copy['번호']).difference(set(df['번호'])) # 필터링 후 \n",
    "    return(df,out)"
   ]
  },
  {
   "cell_type": "code",
   "execution_count": null,
   "metadata": {},
   "outputs": [],
   "source": [
    "f_dict = dict()\n",
    "out_all = set() # 이상치 발견한 주유소 번호 저장\n",
    "for year in range(2018,2022):\n",
    "    df = pd.read_csv(f'./data/과거_판매가격(주유소)_{year}.csv')\n",
    "    f_dict[year], out = preprocess(df)\n",
    "    out_all.update(out)"
   ]
  },
  {
   "cell_type": "markdown",
   "metadata": {},
   "source": [
    "### 1.3. 연도별 데이터 Outer Join"
   ]
  },
  {
   "cell_type": "code",
   "execution_count": null,
   "metadata": {},
   "outputs": [],
   "source": [
    "key = list(f_dict[2018].columns)\n",
    "key.remove('휘발유')\n",
    "print(key)"
   ]
  },
  {
   "cell_type": "code",
   "execution_count": null,
   "metadata": {},
   "outputs": [],
   "source": [
    "m1 = pd.merge(f_dict[2018],f_dict[2019],on=key,how='outer',suffixes=('_2018', '_2019'))\n",
    "m2 = pd.merge(f_dict[2020],f_dict[2021],on=key,how='outer',suffixes=('_2020', '_2021'))\n",
    "m = pd.merge(m1,m2,on=key,how='outer')"
   ]
  },
  {
   "cell_type": "code",
   "execution_count": null,
   "metadata": {},
   "outputs": [],
   "source": [
    "m.head()"
   ]
  },
  {
   "cell_type": "code",
   "execution_count": null,
   "metadata": {},
   "outputs": [],
   "source": [
    "m.groupby('번호').size().sort_values(ascending=False).head()"
   ]
  },
  {
   "cell_type": "code",
   "execution_count": null,
   "metadata": {},
   "outputs": [],
   "source": [
    "m.loc[m['번호']=='A0019752']"
   ]
  },
  {
   "cell_type": "code",
   "execution_count": null,
   "metadata": {},
   "outputs": [],
   "source": [
    "(m.groupby('번호').size()>1).sum()"
   ]
  },
  {
   "cell_type": "code",
   "execution_count": null,
   "metadata": {},
   "outputs": [],
   "source": [
    "key.remove('상표')\n",
    "key"
   ]
  },
  {
   "cell_type": "code",
   "execution_count": null,
   "metadata": {},
   "outputs": [],
   "source": [
    "m1 = pd.merge(f_dict[2018],f_dict[2019],on=key,how='outer',suffixes=('_2018', '_2019'))\n",
    "m2 = pd.merge(f_dict[2020],f_dict[2021],on=key,how='outer',suffixes=('_2020', '_2021'))\n",
    "m = pd.merge(m1,m2,on=key,how='outer')"
   ]
  },
  {
   "cell_type": "code",
   "execution_count": null,
   "metadata": {},
   "outputs": [],
   "source": [
    "m.head()"
   ]
  },
  {
   "cell_type": "code",
   "execution_count": null,
   "metadata": {},
   "outputs": [],
   "source": [
    "size = m.groupby('번호').size().sort_values(ascending=False)\n",
    "size.head()"
   ]
  },
  {
   "cell_type": "code",
   "execution_count": null,
   "metadata": {},
   "outputs": [],
   "source": [
    "target = size[size>1].index\n",
    "m.loc[m['번호'].isin(target)].sort_values('번호')"
   ]
  },
  {
   "cell_type": "code",
   "execution_count": null,
   "metadata": {},
   "outputs": [],
   "source": [
    "m = m.loc[~m['번호'].isin(target)]\n",
    "m.groupby('번호').size().sort_values(ascending=False).head()"
   ]
  },
  {
   "cell_type": "code",
   "execution_count": null,
   "metadata": {},
   "outputs": [],
   "source": [
    "# 이상치 발견되었던 주유소 필터링\n",
    "m = m.loc[[x not in out_all for x in m['번호']]]"
   ]
  },
  {
   "cell_type": "code",
   "execution_count": null,
   "metadata": {},
   "outputs": [],
   "source": [
    "m.head()"
   ]
  },
  {
   "cell_type": "markdown",
   "metadata": {},
   "source": [
    "---"
   ]
  },
  {
   "cell_type": "markdown",
   "metadata": {},
   "source": [
    "## 2. 주유소 개폐업 현황 분석: 연도별 주유소 ID 비교를 통한 개폐업 현황 분석\n"
   ]
  },
  {
   "cell_type": "markdown",
   "metadata": {},
   "source": [
    "### 2.1. 연도별 개폐업 수치 분석"
   ]
  },
  {
   "cell_type": "code",
   "execution_count": null,
   "metadata": {},
   "outputs": [],
   "source": [
    "id_dict=dict()\n",
    "for year in range(2018,2022):\n",
    "    id_dict[year] = set(m.loc[~m[f'상표_{year}'].isna()]['번호'].unique())"
   ]
  },
  {
   "cell_type": "code",
   "execution_count": null,
   "metadata": {},
   "outputs": [],
   "source": [
    "diff_dict=dict()\n",
    "for year in range(2018,2021):\n",
    "    opened = len(id_dict[year+1].difference(id_dict[year]))\n",
    "    closed = len(id_dict[year].difference(id_dict[year+1]))\n",
    "    diff_dict[f'{year}_{year+1}']=[opened,closed]\n",
    "diff_df = pd.DataFrame(diff_dict,index=['OPENED','CLOSED'])  "
   ]
  },
  {
   "cell_type": "code",
   "execution_count": null,
   "metadata": {},
   "outputs": [],
   "source": [
    "diff_df"
   ]
  },
  {
   "cell_type": "code",
   "execution_count": null,
   "metadata": {},
   "outputs": [],
   "source": [
    "diff_df.plot()"
   ]
  },
  {
   "cell_type": "code",
   "execution_count": null,
   "metadata": {},
   "outputs": [],
   "source": [
    "diff_df.T.plot(color=['r','b'])"
   ]
  },
  {
   "cell_type": "markdown",
   "metadata": {},
   "source": [
    "#### 퀴즈 1. 2020년에 신규 개업한 셀프 주유소의 개수를 구하시오."
   ]
  },
  {
   "cell_type": "code",
   "execution_count": null,
   "metadata": {},
   "outputs": [],
   "source": [
    "# id_dict=dict()\n",
    "# for year in range(2018,2022):\n",
    "#     id_dict[year] = set(m.loc[(~m[f'상표_{year}'].isna())&(m['셀프여부']=='셀프')]['번호'].unique())\n",
    "# diff_dict=dict()\n",
    "# for year in range(2018,2021):\n",
    "#     opened = len(id_dict[year+1].difference(id_dict[year]))\n",
    "#     closed = len(id_dict[year].difference(id_dict[year+1]))\n",
    "#     diff_dict[f'{year}_{year+1}']=[opened,closed]\n",
    "# diff_df = pd.DataFrame(diff_dict,index=['OPENED','CLOSED'])    "
   ]
  },
  {
   "cell_type": "code",
   "execution_count": null,
   "metadata": {},
   "outputs": [],
   "source": [
    "#  2020년에 신규 개업한 셀프 주유소의 개수를 구하여 quiz_1 변수에 저장합니다.\n",
    "# 숫자형으로 저장합니다.\n",
    "quiz_1 = None"
   ]
  },
  {
   "cell_type": "markdown",
   "metadata": {},
   "source": [
    "---"
   ]
  },
  {
   "cell_type": "markdown",
   "metadata": {},
   "source": [
    "## 3. 브랜드 분석: 브랜드별 가격경쟁력 및 시장점유율 분석\n"
   ]
  },
  {
   "cell_type": "markdown",
   "metadata": {},
   "source": [
    "### 3.1. 주요 브랜드별 가격 Line Plot 분석"
   ]
  },
  {
   "cell_type": "code",
   "execution_count": null,
   "metadata": {},
   "outputs": [],
   "source": [
    "brand_price_dict=dict()\n",
    "for year in range(2018,2022):\n",
    "    brand_price_dict[str(year)]=m.groupby(f'상표_{year}')[f'휘발유_{year}'].mean()"
   ]
  },
  {
   "cell_type": "code",
   "execution_count": null,
   "metadata": {},
   "outputs": [],
   "source": [
    "brand_price_df = pd.DataFrame(brand_price_dict)\n",
    "brand_price_df"
   ]
  },
  {
   "cell_type": "code",
   "execution_count": null,
   "metadata": {},
   "outputs": [],
   "source": [
    "brand_price_df = brand_price_df.drop('SK가스')\n",
    "brand_price_df.T.plot(figsize=(10,5))"
   ]
  },
  {
   "cell_type": "markdown",
   "metadata": {},
   "source": [
    "### 3.2. 주요 브랜드별 지난 4년간 시장 점유율 Stacked Bar Plot 및 Heatmap"
   ]
  },
  {
   "cell_type": "code",
   "execution_count": null,
   "metadata": {},
   "outputs": [],
   "source": [
    "brand_share_dict=dict()\n",
    "for year in range(2018,2022):\n",
    "    brand_share_dict[str(year)]=m.groupby(f'상표_{year}').size()"
   ]
  },
  {
   "cell_type": "code",
   "execution_count": null,
   "metadata": {},
   "outputs": [],
   "source": [
    "brand_share_df = pd.DataFrame(brand_share_dict)\n",
    "brand_share_df"
   ]
  },
  {
   "cell_type": "code",
   "execution_count": null,
   "metadata": {},
   "outputs": [],
   "source": [
    "brand_share_df = brand_share_df.drop('SK가스')\n",
    "brand_ratio_df = brand_share_df.apply(lambda x:x/brand_share_df.sum(),axis=1)\n",
    "brand_ratio_df = brand_ratio_df.sort_values('2018',ascending=False)"
   ]
  },
  {
   "cell_type": "code",
   "execution_count": null,
   "metadata": {},
   "outputs": [],
   "source": [
    "brand_ratio_df"
   ]
  },
  {
   "cell_type": "code",
   "execution_count": null,
   "metadata": {},
   "outputs": [],
   "source": [
    "brand_ratio_df.T.plot(kind='bar',stacked=True,rot=0,figsize=(10,5))\n",
    "plt.legend(bbox_to_anchor=(1, 1))"
   ]
  },
  {
   "cell_type": "code",
   "execution_count": null,
   "metadata": {},
   "outputs": [],
   "source": [
    "plt.figure(figsize=(10,5))\n",
    "sns.heatmap(brand_ratio_df, cmap= 'RdBu_r', linewidths=1, linecolor='black',annot=True)"
   ]
  },
  {
   "cell_type": "markdown",
   "metadata": {},
   "source": [
    "#### 퀴즈 2. 2019년 주유소를 셀프 및 일반 주유소로 구분하고 일반 주유소가 차지하는 비율을 구하시오"
   ]
  },
  {
   "cell_type": "code",
   "execution_count": null,
   "metadata": {},
   "outputs": [],
   "source": [
    "# self_share_dict = m.loc[~m['상표_2019'].isna()].groupby('셀프여부').size()\n",
    "# self_ratio_dict = self_share_dict/self_share_dict.sum()"
   ]
  },
  {
   "cell_type": "code",
   "execution_count": null,
   "metadata": {},
   "outputs": [],
   "source": [
    "# 2019년 기준 셀프주유소의 시장 점유율을 quiz_2 변수에 저장합니다.\n",
    "# 비율은 소숫점 둘째자리 까지 반올림하여 숫자형으로 제출합니다.\n",
    "quiz_2 = None"
   ]
  },
  {
   "cell_type": "markdown",
   "metadata": {},
   "source": [
    "---"
   ]
  },
  {
   "cell_type": "markdown",
   "metadata": {},
   "source": [
    "## 4. **가격 분석:** 주유소 및 지역 별 가격 편차 분석"
   ]
  },
  {
   "cell_type": "markdown",
   "metadata": {},
   "source": [
    "### 4.1. 가격 분포 Boxplot"
   ]
  },
  {
   "cell_type": "code",
   "execution_count": null,
   "metadata": {},
   "outputs": [],
   "source": [
    "sns.boxplot(x=m['휘발유_2021'])"
   ]
  },
  {
   "cell_type": "markdown",
   "metadata": {},
   "source": [
    "- Boxplot 설명:\n",
    "https://towardsdatascience.com/understanding-boxplots-5e2df7bcbd51"
   ]
  },
  {
   "cell_type": "markdown",
   "metadata": {},
   "source": [
    "### 4.2. 지역별 가격 분포 Boxplot (Multiple Columns)"
   ]
  },
  {
   "cell_type": "code",
   "execution_count": null,
   "metadata": {},
   "outputs": [],
   "source": [
    "boxplot_order = m.groupby('지역2')['휘발유_2021'].median().sort_values(ascending=False).index\n",
    "plt.figure(figsize=(15,7))\n",
    "sns.boxplot(x=\"지역2\", y=\"휘발유_2021\", data=m, orient=\"v\", order=boxplot_order)"
   ]
  },
  {
   "cell_type": "markdown",
   "metadata": {
    "id": "Ox1MnSSlwUB1"
   },
   "source": [
    " ---"
   ]
  },
  {
   "cell_type": "markdown",
   "metadata": {},
   "source": [
    "## 제출하기"
   ]
  },
  {
   "cell_type": "markdown",
   "metadata": {},
   "source": [
    "퀴즈 1번과 2번을 수행 후, 아래 코드를 실행하면 `quiz_1 ~ 2` 변수가 저장된 csv 파일을 제작하여 채점을 받을 수 있습니다.\n",
    "\n",
    "**아래 코드를 수정하면 채점이 불가능 합니다.**"
   ]
  },
  {
   "cell_type": "code",
   "execution_count": null,
   "metadata": {
    "id": "vmZlhpYswUB6"
   },
   "outputs": [],
   "source": [
    "d = {'quiz_1': [quiz_1], 'quiz_2': [quiz_2]}\n",
    "df_quiz = pd.DataFrame(data=d)\n",
    "df_quiz.to_csv(\"submission.csv\",index=False)"
   ]
  },
  {
   "cell_type": "code",
   "execution_count": null,
   "metadata": {
    "id": "0v7iDWm-wUB6"
   },
   "outputs": [],
   "source": [
    "# 채점을 수행하기 위하여 로그인\n",
    "import sys\n",
    "sys.path.append('vendor')\n",
    "from elice_challenge import check_score, upload"
   ]
  },
  {
   "cell_type": "code",
   "execution_count": null,
   "metadata": {
    "id": "SivU2PCvwUB7"
   },
   "outputs": [],
   "source": [
    "# 제출 파일 업로드\n",
    "await upload()"
   ]
  },
  {
   "cell_type": "code",
   "execution_count": null,
   "metadata": {
    "id": "HrkNJwvVwUB7"
   },
   "outputs": [],
   "source": [
    "# 채점 수행\n",
    "await check_score()"
   ]
  },
  {
   "cell_type": "markdown",
   "metadata": {
    "id": "ftNAFdz7wUB7"
   },
   "source": [
    "---"
   ]
  },
  {
   "cell_type": "markdown",
   "metadata": {
    "id": "vqQPeXc_wUB7"
   },
   "source": [
    "<span style=\"color:rgb(120, 120, 120)\">본 학습 자료를 포함한 사이트 내 모든 자료의 저작권은 엘리스에 있으며 외부로의 무단 복제, 배포 및 전송을 불허합니다.\n",
    "\n",
    "Copyright @ elice all rights reserved</span>"
   ]
  }
 ],
 "metadata": {
  "colab": {
   "name": "[p1] 코로나 데이터 분석 프로젝트-정답.ipynb",
   "provenance": []
  },
  "kernelspec": {
   "display_name": "Python 3",
   "language": "python",
   "name": "python3"
  },
  "language_info": {
   "codemirror_mode": {
    "name": "ipython",
    "version": 3
   },
   "file_extension": ".py",
   "mimetype": "text/x-python",
   "name": "python",
   "nbconvert_exporter": "python",
   "pygments_lexer": "ipython3",
   "version": "3.8.5"
  },
  "toc": {
   "base_numbering": 1,
   "nav_menu": {},
   "number_sections": false,
   "sideBar": true,
   "skip_h1_title": false,
   "title_cell": "Table of Contents",
   "title_sidebar": "Contents",
   "toc_cell": false,
   "toc_position": {
    "height": "calc(100% - 180px)",
    "left": "10px",
    "top": "150px",
    "width": "307.2px"
   },
   "toc_section_display": true,
   "toc_window_display": true
  }
 },
 "nbformat": 4,
 "nbformat_minor": 1
}
